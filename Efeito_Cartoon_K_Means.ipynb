{
  "nbformat": 4,
  "nbformat_minor": 0,
  "metadata": {
    "colab": {
      "name": "Efeito_Cartoon_K-Means.ipynb",
      "provenance": [],
      "authorship_tag": "ABX9TyOz1brMBkhkhVJhTc6GaR0S",
      "include_colab_link": true
    },
    "kernelspec": {
      "display_name": "Python 3",
      "name": "python3"
    }
  },
  "cells": [
    {
      "cell_type": "markdown",
      "metadata": {
        "id": "view-in-github",
        "colab_type": "text"
      },
      "source": [
        "<a href=\"https://colab.research.google.com/github/P4lms/Efeito_Cartoon/blob/main/Efeito_Cartoon_K_Means.ipynb\" target=\"_parent\"><img src=\"https://colab.research.google.com/assets/colab-badge.svg\" alt=\"Open In Colab\"/></a>"
      ]
    },
    {
      "cell_type": "markdown",
      "metadata": {
        "id": "ySCv2GCPxfKY"
      },
      "source": [
        "# Importando as bibliotecas"
      ]
    },
    {
      "cell_type": "code",
      "metadata": {
        "id": "iu9LatyrF2-z"
      },
      "source": [
        "import cv2\n",
        "import numpy as np\n",
        " \n",
        "from google.colab.patches import cv2_imshow\n",
        "from google.colab import files"
      ],
      "execution_count": 3,
      "outputs": []
    },
    {
      "cell_type": "markdown",
      "metadata": {
        "id": "mc-T8LI6xi4h"
      },
      "source": [
        "# Definindo as funções "
      ]
    },
    {
      "cell_type": "code",
      "metadata": {
        "id": "L87LFS3CF59d"
      },
      "source": [
        "# Função responsável pela leitura do arquivo a ser modificado\r\n",
        "def read_file(filename):\r\n",
        "  img = cv2.imread(filename)\r\n",
        "  cv2_imshow(img)\r\n",
        "  return img\r\n",
        "\r\n",
        "#Função responsável por definir e armazenar os contornos da imagem\r\n",
        "def edge_mask(img, line_size, blur_value):\r\n",
        "  gray = cv2.cvtColor(img, cv2.COLOR_BGR2GRAY)\r\n",
        "  gray_blur = cv2.medianBlur(gray, blur_value)\r\n",
        "  edges = cv2.adaptiveThreshold(gray_blur, 255, cv2.ADAPTIVE_THRESH_MEAN_C, cv2.THRESH_BINARY, line_size, blur_value)\r\n",
        "  return edges\r\n",
        "\r\n",
        "def color_quantization(img, k):\r\n",
        "  # Transforma a imagem\r\n",
        "  data = np.float32(img).reshape((-1, 3))\r\n",
        " \r\n",
        "  # Determina o criterio\r\n",
        "  criteria = (cv2.TERM_CRITERIA_EPS + cv2.TERM_CRITERIA_MAX_ITER, 20, 0.001)\r\n",
        " \r\n",
        "  # Implementando K-Means\r\n",
        "  ret, label, center = cv2.kmeans(data, k, None, criteria, 10, cv2.KMEANS_RANDOM_CENTERS)\r\n",
        "  center = np.uint8(center)\r\n",
        "  result = center[label.flatten()]\r\n",
        "  result = result.reshape(img.shape)\r\n",
        "  return result"
      ],
      "execution_count": 4,
      "outputs": []
    },
    {
      "cell_type": "code",
      "metadata": {
        "id": "iKvxejXjF6ZI"
      },
      "source": [
        "uploaded = files.upload()\r\n",
        "filename = next(iter(uploaded))\r\n",
        "img = read_file(filename)"
      ],
      "execution_count": null,
      "outputs": []
    },
    {
      "cell_type": "code",
      "metadata": {
        "id": "HBvhHkHAF87Q"
      },
      "source": [
        "line_size = 9\n",
        "blur_value = 5\n",
        " \n",
        "edges = edge_mask(img, line_size, blur_value)\n",
        "cv2_imshow(edges)"
      ],
      "execution_count": null,
      "outputs": []
    },
    {
      "cell_type": "code",
      "metadata": {
        "id": "gwo5BcTNF_yg"
      },
      "source": [
        "total_color = 21\n",
        "img = color_quantization(img, total_color)\n",
        "cv2_imshow(img)"
      ],
      "execution_count": null,
      "outputs": []
    },
    {
      "cell_type": "code",
      "metadata": {
        "id": "ZcBDOUuLGDTo"
      },
      "source": [
        "blurred = cv2.bilateralFilter(img, d=9, sigmaColor=300, sigmaSpace=109)\n",
        "image = blurred\n",
        "cv2_imshow(img)"
      ],
      "execution_count": null,
      "outputs": []
    },
    {
      "cell_type": "code",
      "metadata": {
        "id": "yUQd4czBGEyI"
      },
      "source": [
        "cartoon = cv2.bitwise_and(blurred, blurred, mask=edges)\r\n",
        "img = cartoon\r\n",
        "cv2_imshow(img)"
      ],
      "execution_count": null,
      "outputs": []
    }
  ]
}